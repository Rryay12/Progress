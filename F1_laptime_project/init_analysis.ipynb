{
 "cells": [
  {
   "cell_type": "code",
   "execution_count": 213,
   "id": "6c49542a",
   "metadata": {},
   "outputs": [],
   "source": [
    "import pandas as pd\n",
    "import seaborn as sns\n",
    "import matplotlib.pyplot as plt\n",
    "import json\n",
    "import numpy as np\n",
    "\n",
    "import pygame\n",
    "from pygame.locals import *\n",
    "import pygame.gfxdraw\n"
   ]
  },
  {
   "cell_type": "code",
   "execution_count": 214,
   "id": "bf964dcd",
   "metadata": {},
   "outputs": [],
   "source": [
    "with open(\"/Users/ard/Desktop/Coding_2/F1_laptime_project/f1-circuits.geojson\") as f:\n",
    "    gj = json.load(f)"
   ]
  },
  {
   "cell_type": "code",
   "execution_count": 215,
   "id": "b6253a60",
   "metadata": {},
   "outputs": [],
   "source": [
    "melborne_data = gj[\"features\"][0][\"geometry\"][\"coordinates\"]\n",
    "scaler = 10\n",
    "\n",
    "# High-resolution logic surface (you draw everything here)\n",
    "SWIDTH, SHEIGHT = 1280, 960\n",
    "\n",
    "WIDTH, HEIGHT = SWIDTH*scaler, SHEIGHT*scaler\n",
    "\n",
    "offset = 1000\n",
    "\n",
    "screen_width = WIDTH - offset\n",
    "screen_height = HEIGHT - offset\n",
    "\n",
    "x = []\n",
    "y = []\n",
    "\n",
    "for i in melborne_data:\n",
    "    lon = i[0]\n",
    "    lat = i[1]\n",
    "    x.append(lon * 111.320)\n",
    "    y.append(lat * 110.574)\n",
    "\n",
    "range_x = max(x) - min(x)\n",
    "range_y = max(y) - min(y)\n",
    "\n",
    "if range_x / screen_width > range_y / screen_height:\n",
    "    scale = screen_width / range_x\n",
    "else:\n",
    "    scale = screen_height / range_y\n",
    "\n",
    "height = range_y * scale\n",
    "circuit_data = []\n",
    "\n",
    "for i in range(len(x)):\n",
    "    screen_x = (x[i] - min(x)) * scale + offset/2 \n",
    "    screen_y = height - (y[i] - min(y)) * scale + offset/2   \n",
    "    circuit_data.append((screen_x, screen_y))"
   ]
  },
  {
   "cell_type": "code",
   "execution_count": 216,
   "id": "c852713e",
   "metadata": {},
   "outputs": [],
   "source": [
    "from scipy.interpolate import splprep, splev\n",
    "\n",
    "x, y = zip(*circuit_data)\n",
    "tck, u = splprep([x, y], s=30.0,per=True)\n",
    "u_new = np.linspace(0, 1, 5000)\n",
    "x_smooth, y_smooth = splev(u_new, tck)\n",
    "path = np.stack((x_smooth, y_smooth), axis=1)\n",
    "\n",
    "# 2. Generate thick track by computing offset vectors\n",
    "def make_thick_polyline(path, width):\n",
    "    left = []\n",
    "    right = []\n",
    "    for i in range(len(path) - 1):\n",
    "        p1 = path[i]\n",
    "        p2 = path[i + 1]\n",
    "        dx, dy = p2 - p1\n",
    "        length = np.hypot(dx, dy)\n",
    "        if length == 0: continue\n",
    "        nx, ny = -dy / length, dx / length  # perpendicular vector\n",
    "        offset = np.array([nx, ny]) * (width / 2)\n",
    "        left.append(p1 + offset)\n",
    "        right.append(p1 - offset)\n",
    "    # Add final point\n",
    "    offset = np.array([-dy, dx]) / length * (width / 2)\n",
    "    left.append(path[-1] + offset)\n",
    "    right.append(path[-1] - offset)\n",
    "    return left + right[::-1]  # combine as polygon\n",
    "\n",
    "track_width = 500  # Change this to your desired width\n",
    "track_polygon = make_thick_polyline(path, track_width)"
   ]
  },
  {
   "cell_type": "code",
   "execution_count": null,
   "id": "66dec767",
   "metadata": {},
   "outputs": [
    {
     "ename": "KeyboardInterrupt",
     "evalue": "",
     "output_type": "error",
     "traceback": [
      "\u001b[0;31m---------------------------------------------------------------------------\u001b[0m",
      "\u001b[0;31mKeyboardInterrupt\u001b[0m                         Traceback (most recent call last)",
      "Cell \u001b[0;32mIn[217], line 24\u001b[0m\n\u001b[1;32m     21\u001b[0m         running \u001b[38;5;241m=\u001b[39m \u001b[38;5;28;01mFalse\u001b[39;00m\n\u001b[1;32m     23\u001b[0m GAME_SURF\u001b[38;5;241m.\u001b[39mfill(WHITE)\n\u001b[0;32m---> 24\u001b[0m pygame\u001b[38;5;241m.\u001b[39mdraw\u001b[38;5;241m.\u001b[39mpolygon(GAME_SURF, BLACK, track_polygon)\n\u001b[1;32m     26\u001b[0m scaled_surface \u001b[38;5;241m=\u001b[39m pygame\u001b[38;5;241m.\u001b[39mtransform\u001b[38;5;241m.\u001b[39msmoothscale(GAME_SURF, (SWIDTH, SHEIGHT))\n\u001b[1;32m     28\u001b[0m WINDOW\u001b[38;5;241m.\u001b[39mblit(scaled_surface, (\u001b[38;5;241m0\u001b[39m, \u001b[38;5;241m0\u001b[39m))\n",
      "\u001b[0;31mKeyboardInterrupt\u001b[0m: "
     ]
    },
    {
     "ename": "",
     "evalue": "",
     "output_type": "error",
     "traceback": [
      "\u001b[1;31mThe Kernel crashed while executing code in the current cell or a previous cell. \n",
      "\u001b[1;31mPlease review the code in the cell(s) to identify a possible cause of the failure. \n",
      "\u001b[1;31mClick <a href='https://aka.ms/vscodeJupyterKernelCrash'>here</a> for more info. \n",
      "\u001b[1;31mView Jupyter <a href='command:jupyter.viewOutput'>log</a> for further details."
     ]
    }
   ],
   "source": [
    "\n",
    "# Initialize pygame\n",
    "pygame.init()\n",
    "\n",
    "GAME_SURF = pygame.Surface((WIDTH, HEIGHT))\n",
    "\n",
    "# Display resolution (smaller)\n",
    "WINDOW = pygame.display.set_mode((SWIDTH, SHEIGHT))\n",
    "pygame.display.set_caption(\"Downscaled Output\")\n",
    "\n",
    "FPS = 60\n",
    "clock = pygame.time.Clock()\n",
    "\n",
    "WHITE = (255, 255, 255)\n",
    "BLACK = (0, 0, 0)\n",
    "\n",
    "\n",
    "running = True\n",
    "while running:\n",
    "    for event in pygame.event.get():\n",
    "        if event.type == pygame.QUIT:\n",
    "            running = False\n",
    "\n",
    "    GAME_SURF.fill(WHITE)\n",
    "    pygame.draw.polygon(GAME_SURF, BLACK, track_polygon)\n",
    "\n",
    "    scaled_surface = pygame.transform.smoothscale(GAME_SURF, (SWIDTH, SHEIGHT))\n",
    "\n",
    "    WINDOW.blit(scaled_surface, (0, 0))\n",
    "    pygame.display.update()\n",
    "\n",
    "    clock.tick(FPS)\n",
    "\n",
    "pygame.quit()\n"
   ]
  }
 ],
 "metadata": {
  "kernelspec": {
   "display_name": "base",
   "language": "python",
   "name": "python3"
  },
  "language_info": {
   "codemirror_mode": {
    "name": "ipython",
    "version": 3
   },
   "file_extension": ".py",
   "mimetype": "text/x-python",
   "name": "python",
   "nbconvert_exporter": "python",
   "pygments_lexer": "ipython3",
   "version": "3.12.7"
  }
 },
 "nbformat": 4,
 "nbformat_minor": 5
}
